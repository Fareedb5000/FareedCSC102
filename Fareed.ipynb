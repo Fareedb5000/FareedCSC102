{
 "cells": [
  {
   "cell_type": "code",
   "execution_count": null,
   "metadata": {
    "scrolled": true
   },
   "outputs": [],
   "source": []
  },
  {
   "cell_type": "code",
   "execution_count": 31,
   "metadata": {},
   "outputs": [],
   "source": [
    "def shut_down(v):\n",
    "    v= yes\n",
    "    if v== \"yes\":\n",
    "        return\"Shutting down\"\n",
    "    elif v==\"no\":\n",
    "        return\"shutdown aborted\"\n",
    "    else:\n",
    "        return \"Sorry, such argument not welcome here \"\n",
    "    "
   ]
  },
  {
   "cell_type": "code",
   "execution_count": 4,
   "metadata": {},
   "outputs": [
    {
     "ename": "SyntaxError",
     "evalue": "invalid syntax (<ipython-input-4-7c4022fc62ef>, line 17)",
     "output_type": "error",
     "traceback": [
      "\u001b[1;36m  File \u001b[1;32m\"<ipython-input-4-7c4022fc62ef>\"\u001b[1;36m, line \u001b[1;32m17\u001b[0m\n\u001b[1;33m    $\u001b[0m\n\u001b[1;37m    ^\u001b[0m\n\u001b[1;31mSyntaxError\u001b[0m\u001b[1;31m:\u001b[0m invalid syntax\n"
     ]
    }
   ],
   "source": [
    "# Python program to print\n",
    "# colored text and background\n",
    "def prRed(skk): print(\"\\033[91m {}\\033[00m\" .format(skk))\n",
    "def prGreen(skk): print(\"\\033[92m {}\\033[00m\" .format(skk))\n",
    "def prYellow(skk): print(\"\\033[93m {}\\033[00m\" .format(skk))\n",
    "def prLightPurple(skk): print(\"\\033[94m {}\\033[00m\" .format(skk))\n",
    "def prPurple(skk): print(\"\\033[95m {}\\033[00m\" .format(skk))\n",
    "def prCyan(skk): print(\"\\033[96m {}\\033[00m\" .format(skk))\n",
    "def prLightGray(skk): print(\"\\033[97m {}\\033[00m\" .format(skk))\n",
    "def prBlack(skk): print(\"\\033[98m {}\\033[00m\" .format(skk))\n",
    "  \n",
    "prCyan(\"Hello World, \")\n",
    "prYellow(\"It's\")\n",
    "prGreen(\"Geeks\")\n",
    "prRed(\"For\")\n",
    "prGreen(\"Geeks\")\n",
    "#This code box has to be run for the colour to work\n",
    "\n"
   ]
  },
  {
   "cell_type": "code",
   "execution_count": 14,
   "metadata": {},
   "outputs": [
    {
     "name": "stdout",
     "output_type": "stream",
     "text": [
      "\u001b[93m Ben 10 is a kid\u001b[00m\n"
     ]
    }
   ],
   "source": [
    "prYellow(\"Ben 10 is a kid\")"
   ]
  },
  {
   "cell_type": "code",
   "execution_count": 3,
   "metadata": {},
   "outputs": [
    {
     "name": "stdout",
     "output_type": "stream",
     "text": [
      "Enter Your salary here44\n",
      "Enter Your name herefd\n",
      "\u001b[91m 44\u001b[00m\n",
      "\u001b[91m fd\u001b[00m\n"
     ]
    }
   ],
   "source": [
    "# def ShowEmployee()\n",
    "salary = int(input(\"Enter Your salary here\"))\n",
    "name = input(\"Enter Your name here\")\n",
    "if salary > 1000000:\n",
    "    prGreen(salary)\n",
    "    prGreen(name)\n",
    "elif 500000 < salary < 1000000:\n",
    "    prCyan(salary)\n",
    "    prCyan(name)\n",
    "else:\n",
    "    prRed(salary)\n",
    "    prRed(name)\n",
    "   \n",
    "\n",
    "\n",
    "\n",
    "    "
   ]
  },
  {
   "cell_type": "code",
   "execution_count": 20,
   "metadata": {},
   "outputs": [],
   "source": [
    "#def cube(number):\n",
    "number = int(input(\"write your number here\"))\n",
    "    return(number*number*number)\n"
   ]
  },
  {
   "cell_type": "code",
   "execution_count": 29,
   "metadata": {},
   "outputs": [
    {
     "name": "stdout",
     "output_type": "stream",
     "text": [
      "Original String :  Naruto is a boy\n",
      "No. of Upper case characters :  1\n",
      "No. of Lower case Characters :  11\n"
     ]
    }
   ],
   "source": [
    "def string_test(s):\n",
    "    d={\"UPPER_CASE\":0, \"LOWER_CASE\":0}\n",
    "    for c in s:\n",
    "        if c.isupper():\n",
    "           d[\"UPPER_CASE\"]+=1\n",
    "        elif c.islower():\n",
    "           d[\"LOWER_CASE\"]+=1\n",
    "        else:\n",
    "           pass\n",
    "    print (\"Original String : \", s)\n",
    "    print (\"No. of Upper case characters : \", d[\"UPPER_CASE\"])\n",
    "    print (\"No. of Lower case Characters : \", d[\"LOWER_CASE\"])\n",
    "\n",
    "string_test(\"Naruto is a boy\")\n"
   ]
  },
  {
   "cell_type": "code",
   "execution_count": null,
   "metadata": {},
   "outputs": [],
   "source": []
  },
  {
   "cell_type": "code",
   "execution_count": null,
   "metadata": {},
   "outputs": [],
   "source": []
  },
  {
   "cell_type": "code",
   "execution_count": null,
   "metadata": {},
   "outputs": [],
   "source": []
  },
  {
   "cell_type": "code",
   "execution_count": null,
   "metadata": {},
   "outputs": [],
   "source": []
  },
  {
   "cell_type": "code",
   "execution_count": null,
   "metadata": {},
   "outputs": [],
   "source": []
  },
  {
   "cell_type": "code",
   "execution_count": null,
   "metadata": {},
   "outputs": [],
   "source": []
  },
  {
   "cell_type": "code",
   "execution_count": null,
   "metadata": {},
   "outputs": [],
   "source": []
  },
  {
   "cell_type": "code",
   "execution_count": null,
   "metadata": {},
   "outputs": [],
   "source": []
  },
  {
   "cell_type": "code",
   "execution_count": null,
   "metadata": {},
   "outputs": [],
   "source": []
  },
  {
   "cell_type": "code",
   "execution_count": null,
   "metadata": {},
   "outputs": [],
   "source": []
  },
  {
   "cell_type": "code",
   "execution_count": null,
   "metadata": {},
   "outputs": [],
   "source": []
  }
 ],
 "metadata": {
  "kernelspec": {
   "display_name": "Python 3",
   "language": "python",
   "name": "python3"
  },
  "language_info": {
   "codemirror_mode": {
    "name": "ipython",
    "version": 3
   },
   "file_extension": ".py",
   "mimetype": "text/x-python",
   "name": "python",
   "nbconvert_exporter": "python",
   "pygments_lexer": "ipython3",
   "version": "3.8.5"
  }
 },
 "nbformat": 4,
 "nbformat_minor": 4
}
